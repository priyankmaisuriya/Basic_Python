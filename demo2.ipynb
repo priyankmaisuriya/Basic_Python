{
 "cells": [
  {
   "cell_type": "code",
   "execution_count": 3,
   "id": "6ddf9850",
   "metadata": {},
   "outputs": [
    {
     "data": {
      "text/plain": [
       "[1, 22, 23, 9, 34, 15, 11, 15, 19, 8, 7, 12]"
      ]
     },
     "execution_count": 3,
     "metadata": {},
     "output_type": "execute_result"
    }
   ],
   "source": [
    "list1=[]\n",
    "\n",
    "list=[[1,22,23,9],[34,15,11,15],[19,8,7,12]]\n",
    "\n",
    "for x in list:\n",
    "        list1 += x        \n",
    "list1"
   ]
  },
  {
   "cell_type": "code",
   "execution_count": 8,
   "id": "978879f0",
   "metadata": {},
   "outputs": [
    {
     "name": "stdout",
     "output_type": "stream",
     "text": [
      "[1, 7, 8, 9, 11, 12, 15, 15, 19, 22, 23, 34]\n"
     ]
    }
   ],
   "source": [
    "x=list1\n",
    "for i in range(len(x)):\n",
    "     for j in range(i+1,len(x)):\n",
    "            if x[i]>x[j]:\n",
    "                 x[i],x[j]=x[j],x[i]\n",
    "print(x)"
   ]
  },
  {
   "cell_type": "code",
   "execution_count": 9,
   "id": "3ca79a20",
   "metadata": {},
   "outputs": [
    {
     "name": "stdout",
     "output_type": "stream",
     "text": [
      "{1, 34, 7, 8, 9, 11, 12, 15, 19, 22, 23}\n",
      "[1, 7, 8, 9, 11, 12, 15, 19, 22, 23, 34]\n"
     ]
    }
   ],
   "source": [
    "newset = set(list1)\n",
    "print(newset)\n",
    "\n",
    "newsetlist =[*newset]\n",
    "\n",
    "x=newsetlist\n",
    "for i in range(len(x)):\n",
    "     for j in range(i+1,len(x)):\n",
    "            if x[i]>x[j]:\n",
    "                 x[i],x[j]=x[j],x[i]\n",
    "print(x)"
   ]
  },
  {
   "cell_type": "code",
   "execution_count": 22,
   "id": "ff7d7d09",
   "metadata": {},
   "outputs": [
    {
     "name": "stdout",
     "output_type": "stream",
     "text": [
      "[array([1, 7, 8, 9]), array([11, 12, 15, 15]), array([19, 22, 23, 34])]\n"
     ]
    }
   ],
   "source": [
    "import numpy as np\n",
    "x=list1\n",
    "range=3\n",
    "result=np.array_split(x,range)\n",
    "print(result)"
   ]
  },
  {
   "cell_type": "code",
   "execution_count": 20,
   "id": "d5ee75d0",
   "metadata": {},
   "outputs": [
    {
     "name": "stdout",
     "output_type": "stream",
     "text": [
      "[[1, 7, 8, 9], [11, 12, 15, 15], [19, 22, 23, 34]]\n"
     ]
    }
   ],
   "source": [
    "ls=list1\n",
    "result=[ls[y:y+4] for y in range(0,len(ls),4)]\n",
    "print(result)\n",
    "    "
   ]
  },
  {
   "cell_type": "code",
   "execution_count": 21,
   "id": "1e251cde",
   "metadata": {},
   "outputs": [
    {
     "name": "stdout",
     "output_type": "stream",
     "text": [
      "[[1, 7, 8, 9], [11, 12, 15, 19], [22, 23, 34]]\n"
     ]
    }
   ],
   "source": [
    "ls=newsetlist\n",
    "result=[ls[y:y+4] for y in range(0,len(ls),4)]\n",
    "print(result)\n",
    "    "
   ]
  },
  {
   "cell_type": "code",
   "execution_count": null,
   "id": "aef15568",
   "metadata": {},
   "outputs": [],
   "source": []
  }
 ],
 "metadata": {
  "kernelspec": {
   "display_name": "Python 3 (ipykernel)",
   "language": "python",
   "name": "python3"
  },
  "language_info": {
   "codemirror_mode": {
    "name": "ipython",
    "version": 3
   },
   "file_extension": ".py",
   "mimetype": "text/x-python",
   "name": "python",
   "nbconvert_exporter": "python",
   "pygments_lexer": "ipython3",
   "version": "3.9.7"
  }
 },
 "nbformat": 4,
 "nbformat_minor": 5
}
