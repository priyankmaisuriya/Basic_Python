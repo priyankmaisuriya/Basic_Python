{
 "cells": [
  {
   "cell_type": "code",
   "execution_count": 1,
   "id": "809844be",
   "metadata": {},
   "outputs": [
    {
     "name": "stdout",
     "output_type": "stream",
     "text": [
      "Hello, World!\n"
     ]
    }
   ],
   "source": [
    "print(\"Hello, World!\")\n"
   ]
  },
  {
   "cell_type": "code",
   "execution_count": 2,
   "id": "1c356267",
   "metadata": {},
   "outputs": [
    {
     "name": "stdout",
     "output_type": "stream",
     "text": [
      "20\n",
      "Weird\n"
     ]
    }
   ],
   "source": [
    "#Given an integer, n, perform the following conditional actions:\n",
    "\n",
    "#If n is odd, print Weird\n",
    "#If n is even and in the inclusive range of 2 to 5 , print Not Weird\n",
    "#If n is even and in the inclusive range of 6 to 20, print Weird\n",
    "#If n is even and greater than 20, print Not Weird\n",
    "\n",
    "n = int(input())\n",
    "if n % 2 == 1:\n",
    "    print(\"Weird\")\n",
    "elif n % 2 == 0 and 2 <= n <= 5:\n",
    "    print(\"Not Weird\")\n",
    "elif n % 2 == 0 and 6 <= n <= 20:\n",
    "    print(\"Weird\")\n",
    "else:\n",
    "    print(\"Not Weird\")"
   ]
  },
  {
   "cell_type": "code",
   "execution_count": 3,
   "id": "cef38fc2",
   "metadata": {},
   "outputs": [
    {
     "name": "stdout",
     "output_type": "stream",
     "text": [
      "4\n",
      "5\n",
      "9\n",
      "-1\n",
      "20\n"
     ]
    }
   ],
   "source": [
    "#The provided code stub reads two integers from STDIN, a and b. Add code to print three lines where:\n",
    "#The first line contains the sum of the two numbers.\n",
    "#The second line contains the difference of the two numbers (first - second).\n",
    "#The third line contains the product of the two numbers.\n",
    "\n",
    "x=int(input())\n",
    "y=int(input())\n",
    "\n",
    "print(x+y)\n",
    "print(x-y)\n",
    "print(x*y)"
   ]
  },
  {
   "cell_type": "code",
   "execution_count": 4,
   "id": "d41cb68f",
   "metadata": {},
   "outputs": [
    {
     "name": "stdout",
     "output_type": "stream",
     "text": [
      "5\n",
      "6\n",
      "0\n",
      "0.8333333333333334\n"
     ]
    }
   ],
   "source": [
    "#The provided code stub reads two integers, a and b, from STDIN.\n",
    "\n",
    "#Add logic to print two lines. \n",
    "#The first line should contain the result of integer division, a //b .\n",
    "#The second line should contain the result of float division,  a/b .\n",
    "#No rounding or formatting is necessary.\n",
    "\n",
    "a = int(input())\n",
    "b = int(input())\n",
    "\n",
    "print(a//b)\n",
    "print(a/b)\n"
   ]
  },
  {
   "cell_type": "code",
   "execution_count": 5,
   "id": "9800e1a9",
   "metadata": {},
   "outputs": [
    {
     "name": "stdout",
     "output_type": "stream",
     "text": [
      "5\n",
      "0\n",
      "1\n",
      "4\n",
      "9\n",
      "16\n"
     ]
    }
   ],
   "source": [
    "#The provided code stub reads and integer,n , from STDIN.\n",
    "#For all non-negative integers i<n , print i^2 .\n",
    "\n",
    "n = int(input())\n",
    "for i in range(0, n):\n",
    "    print(i ** 2)\n"
   ]
  },
  {
   "cell_type": "code",
   "execution_count": 6,
   "id": "f62f9cef",
   "metadata": {},
   "outputs": [
    {
     "name": "stdout",
     "output_type": "stream",
     "text": [
      "1992\n",
      "True\n"
     ]
    }
   ],
   "source": [
    "#Given a year, determine whether it is a leap year.\n",
    "#If it is a leap year, return the Boolean True, otherwise return False.\n",
    "#Note that the code stub provided reads from STDIN and passes arguments to the is_leap function. \n",
    "#It is only necessary to complete the is_leap function.\n",
    "\n",
    "def is_leap(year):\n",
    "    leap = False\n",
    "    \n",
    "    if year % 400 == 0:\n",
    "        leap = True\n",
    "    elif year % 100 == 0:\n",
    "        leap = False\n",
    "    elif year % 4 == 0:\n",
    "        leap = True\n",
    "        \n",
    "    return leap\n",
    "\n",
    "year = int(input())\n",
    "print(is_leap(year))"
   ]
  },
  {
   "cell_type": "code",
   "execution_count": 7,
   "id": "92ec3268",
   "metadata": {},
   "outputs": [
    {
     "name": "stdout",
     "output_type": "stream",
     "text": [
      "8\n",
      "12345678"
     ]
    }
   ],
   "source": [
    "#The included code stub will read an integer,n , from STDIN.\n",
    "#Without using any string methods, try to print the following: 123...n\n",
    "#print line funcation\n",
    "\n",
    "if __name__ == '__main__':\n",
    "    n = int(input())\n",
    "    for i in range(1,n+1):\n",
    "        print(i,end=\"\")\n"
   ]
  },
  {
   "cell_type": "code",
   "execution_count": 8,
   "id": "80824af6",
   "metadata": {},
   "outputs": [
    {
     "name": "stdout",
     "output_type": "stream",
     "text": [
      "5\n",
      "0\n",
      "1\n",
      "2\n",
      "[[0, 0, 0], [0, 0, 1], [1, 0, 0], [2, 0, 1], [3, 0, 0], [3, 0, 1], [4, 0, 0], [4, 0, 1], [5, 0, 0], [5, 0, 1]]\n"
     ]
    }
   ],
   "source": [
    " #list comprehensions\n",
    "if __name__ == '__main__':\n",
    "    x = int(input())\n",
    "    y = int(input())\n",
    "    z = int(input())\n",
    "    n = int(input())\n",
    "    \n",
    "    lists = []\n",
    "    \n",
    "    for i in range(x+1):\n",
    "        for j in range(y+1):\n",
    "            for k in range(z+1):\n",
    "                if (i+j+k)!=n:\n",
    "                    lists.append([i,j,k])\n",
    "    print(lists)"
   ]
  },
  {
   "cell_type": "code",
   "execution_count": 9,
   "id": "b1d8025c",
   "metadata": {},
   "outputs": [
    {
     "name": "stdout",
     "output_type": "stream",
     "text": [
      "5\n",
      "2 3 5 4 9\n",
      "5\n"
     ]
    }
   ],
   "source": [
    "#runner-up score\n",
    "\n",
    "if __name__ == '__main__':\n",
    "    n = int(input())\n",
    "    arr = map(int, input().split())\n",
    "    print(sorted(list(set(arr)))[-2])\n"
   ]
  },
  {
   "cell_type": "code",
   "execution_count": 10,
   "id": "d6c9fd59",
   "metadata": {},
   "outputs": [
    {
     "name": "stdout",
     "output_type": "stream",
     "text": [
      "3\n",
      "harry\n",
      "6\n",
      "jerry\n",
      "7\n",
      "kerry\n",
      "8\n",
      "jerry\n"
     ]
    }
   ],
   "source": [
    "#If there are multiple students with the second lowest grade, order their names alphabetically and print each name on a new line.\n",
    "Result =[]\n",
    "scorelist = []\n",
    "if __name__ == '__main__':\n",
    "    for _ in range(int(input())):\n",
    "        name = input()\n",
    "        score = float(input())\n",
    "        Result+=[[name,score]]\n",
    "        scorelist+=[score]\n",
    "    b=sorted(list(set(scorelist)))[1] \n",
    "    for a,c in sorted(Result):\n",
    "            if c==b:\n",
    "                print(a)"
   ]
  },
  {
   "cell_type": "code",
   "execution_count": 11,
   "id": "1f4ebe6f",
   "metadata": {},
   "outputs": [
    {
     "name": "stdout",
     "output_type": "stream",
     "text": [
      "rocky sultan\n",
      "kgf\n",
      "Hello rocky sultan kgf!\n"
     ]
    }
   ],
   "source": [
    "#print_full_name\n",
    "\n",
    "def print_full_name(first, last):\n",
    "    print(\"Hello {} {}!\".format(first,last))\n",
    "\n",
    "if __name__ == '__main__':\n",
    "    first_name = input()\n",
    "    last_name =  input()\n",
    "    print_full_name(first_name, last_name)"
   ]
  },
  {
   "cell_type": "code",
   "execution_count": null,
   "id": "f90eebd6",
   "metadata": {},
   "outputs": [],
   "source": []
  }
 ],
 "metadata": {
  "kernelspec": {
   "display_name": "Python 3 (ipykernel)",
   "language": "python",
   "name": "python3"
  },
  "language_info": {
   "codemirror_mode": {
    "name": "ipython",
    "version": 3
   },
   "file_extension": ".py",
   "mimetype": "text/x-python",
   "name": "python",
   "nbconvert_exporter": "python",
   "pygments_lexer": "ipython3",
   "version": "3.9.7"
  }
 },
 "nbformat": 4,
 "nbformat_minor": 5
}
