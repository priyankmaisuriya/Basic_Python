{
 "cells": [
  {
   "cell_type": "code",
   "execution_count": 4,
   "id": "36ee8c10",
   "metadata": {},
   "outputs": [
    {
     "data": {
      "text/plain": [
       "[1, 22, 23, 9, 34, 15, 11, 15, 19, 8, 7, 12]"
      ]
     },
     "execution_count": 4,
     "metadata": {},
     "output_type": "execute_result"
    }
   ],
   "source": [
    "list1=[]\n",
    "\n",
    "list=[[1,22,23,9],[34,15,11,15],[19,8,7,12]]\n",
    "\n",
    "for x in list:\n",
    "        list1 += x        \n",
    "list1"
   ]
  },
  {
   "cell_type": "code",
   "execution_count": 5,
   "id": "fa81b37e",
   "metadata": {},
   "outputs": [
    {
     "name": "stdout",
     "output_type": "stream",
     "text": [
      "[1, 7, 8, 9, 11, 12, 15, 15, 19, 22, 23, 34]\n"
     ]
    }
   ],
   "source": [
    "x=list1\n",
    "for i in range(len(x)):\n",
    "     for j in range(i+1,len(x)):\n",
    "            if x[i]>x[j]:\n",
    "                 x[i],x[j]=x[j],x[i]\n",
    "print(x)"
   ]
  },
  {
   "cell_type": "code",
   "execution_count": 6,
   "id": "027a2da8",
   "metadata": {},
   "outputs": [
    {
     "name": "stdout",
     "output_type": "stream",
     "text": [
      "{1, 34, 7, 8, 9, 11, 12, 15, 19, 22, 23}\n",
      "[1, 7, 8, 9, 11, 12, 15, 19, 22, 23, 34]\n"
     ]
    }
   ],
   "source": [
    "newset = set(list1)\n",
    "print(newset)\n",
    "\n",
    "newsetlist =[*newset]\n",
    "\n",
    "x=newsetlist\n",
    "for i in range(len(x)):\n",
    "     for j in range(i+1,len(x)):\n",
    "            if x[i]>x[j]:\n",
    "                 x[i],x[j]=x[j],x[i]\n",
    "print(x)"
   ]
  },
  {
   "cell_type": "code",
   "execution_count": 7,
   "id": "82a647e3",
   "metadata": {},
   "outputs": [
    {
     "name": "stdout",
     "output_type": "stream",
     "text": [
      "[1, 7, 8, 9] [11, 12, 15, 15] [19, 22, 23, 34]\n"
     ]
    },
    {
     "data": {
      "text/plain": [
       "[[1, 7, 8, 9], [11, 12, 15, 15], [19, 22, 23, 34]]"
      ]
     },
     "execution_count": 7,
     "metadata": {},
     "output_type": "execute_result"
    }
   ],
   "source": [
    "a=list1\n",
    "ls=[]\n",
    "for x in range(0,len(list1),3):\n",
    "    x=a[0:4]\n",
    "    for y in range(0,len(list1),3):\n",
    "        y=a[4:8]\n",
    "        for z in range(0,len(list1),3):\n",
    "            z=a[8:12]\n",
    "print(x,y,z)\n",
    "ls=[x,y,z]\n",
    "ls"
   ]
  },
  {
   "cell_type": "code",
   "execution_count": 17,
   "id": "a75a7f96",
   "metadata": {},
   "outputs": [
    {
     "data": {
      "text/plain": [
       "[[1, 7, 8, 9], [11, 12, 15, 19], [22, 23, 34]]"
      ]
     },
     "execution_count": 17,
     "metadata": {},
     "output_type": "execute_result"
    }
   ],
   "source": [
    "a=newsetlist\n",
    "ls=[]\n",
    "for x in range(0,len(list1),3):\n",
    "    x=a[0:4]\n",
    "    for y in range(0,len(list1),3):\n",
    "        y=a[4:8]\n",
    "        for z in range(0,len(list1),3):\n",
    "            z=a[8:12]\n",
    "#print(x,y,z)\n",
    "ls=[x,y,z]\n",
    "ls"
   ]
  }
 ],
 "metadata": {
  "kernelspec": {
   "display_name": "Python 3 (ipykernel)",
   "language": "python",
   "name": "python3"
  },
  "language_info": {
   "codemirror_mode": {
    "name": "ipython",
    "version": 3
   },
   "file_extension": ".py",
   "mimetype": "text/x-python",
   "name": "python",
   "nbconvert_exporter": "python",
   "pygments_lexer": "ipython3",
   "version": "3.9.7"
  }
 },
 "nbformat": 4,
 "nbformat_minor": 5
}
